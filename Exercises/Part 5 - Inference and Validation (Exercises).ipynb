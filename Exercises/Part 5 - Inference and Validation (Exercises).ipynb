{
  "nbformat": 4,
  "nbformat_minor": 0,
  "metadata": {
    "colab": {
      "name": "Part 5 - Inference and Validation (Exercises).ipynb",
      "version": "0.3.2",
      "provenance": [],
      "collapsed_sections": []
    },
    "kernelspec": {
      "name": "python3",
      "display_name": "Python 3"
    },
    "accelerator": "GPU"
  },
  "cells": [
    {
      "metadata": {
        "id": "U4YCMOSamqhe",
        "colab_type": "text"
      },
      "cell_type": "markdown",
      "source": [
        "# Inference and Validation\n",
        "\n",
        "Now that you have a trained network, you can use it for making predictions. This is typically called **inference**, a term borrowed from statistics. However, neural networks have a tendency to perform *too well* on the training data and aren't able to generalize to data that hasn't been seen before. This is called **overfitting** and it impairs inference performance. To test for overfitting while training, we measure the performance on data not in the training set called the **validation** set. We avoid overfitting through regularization such as dropout while monitoring the validation performance during training. In this notebook, I'll show you how to do this in PyTorch. \n",
        "\n",
        "As usual, let's start by loading the dataset through torchvision. You'll learn more about torchvision and loading data in a later part. This time we'll be taking advantage of the test set which you can get by setting `train=False` here:\n",
        "\n",
        "```python\n",
        "testset = datasets.FashionMNIST('~/.pytorch/F_MNIST_data/', download=True, train=False, transform=transform)\n",
        "```\n",
        "\n",
        "The test set contains images just like the training set. Typically you'll see 10-20% of the original dataset held out for testing and validation with the rest being used for training."
      ]
    },
    {
      "metadata": {
        "id": "ApDboUNzzrvF",
        "colab_type": "code",
        "colab": {
          "base_uri": "https://localhost:8080/",
          "height": 55
        },
        "outputId": "162b0da6-b008-439c-bb1c-aba1b546bcd6"
      },
      "cell_type": "code",
      "source": [
        "# http://pytorch.org/\n",
        "from os.path import exists\n",
        "from wheel.pep425tags import get_abbr_impl, get_impl_ver, get_abi_tag\n",
        "platform = '{}{}-{}'.format(get_abbr_impl(), get_impl_ver(), get_abi_tag())\n",
        "cuda_output = !ldconfig -p|grep cudart.so|sed -e 's/.*\\.\\([0-9]*\\)\\.\\([0-9]*\\)$/cu\\1\\2/'\n",
        "accelerator = cuda_output[0] if exists('/dev/nvidia0') else 'cpu'\n",
        "\n",
        "!pip install -q http://download.pytorch.org/whl/{accelerator}/torch-0.4.1-{platform}-linux_x86_64.whl torchvision\n",
        "import torch"
      ],
      "execution_count": 2,
      "outputs": [
        {
          "output_type": "stream",
          "text": [
            "tcmalloc: large alloc 1073750016 bytes == 0x57700000 @  0x7fc7ef92f2a4 0x594e17 0x626104 0x51190a 0x4f5277 0x510c78 0x5119bd 0x4f5277 0x4f3338 0x510fb0 0x5119bd 0x4f5277 0x4f3338 0x510fb0 0x5119bd 0x4f5277 0x4f3338 0x510fb0 0x5119bd 0x4f6070 0x510c78 0x5119bd 0x4f5277 0x4f3338 0x510fb0 0x5119bd 0x4f6070 0x4f3338 0x510fb0 0x5119bd 0x4f6070\n"
          ],
          "name": "stdout"
        }
      ]
    },
    {
      "metadata": {
        "id": "66ZwvThFmqhs",
        "colab_type": "code",
        "colab": {
          "base_uri": "https://localhost:8080/",
          "height": 127
        },
        "outputId": "4deb0d9f-a7d9-48da-de84-c36ed2b497a1"
      },
      "cell_type": "code",
      "source": [
        "import torch\n",
        "from torchvision import datasets, transforms\n",
        "\n",
        "# Define a transform to normalize the data\n",
        "transform = transforms.Compose([transforms.ToTensor(),\n",
        "                                transforms.Normalize((0.5, 0.5, 0.5), (0.5, 0.5, 0.5))])\n",
        "# Download and load the training data\n",
        "trainset = datasets.FashionMNIST('~/.pytorch/F_MNIST_data/', download=True, train=True, transform=transform)\n",
        "trainloader = torch.utils.data.DataLoader(trainset, batch_size=64, shuffle=True)\n",
        "\n",
        "# Download and load the test data\n",
        "testset = datasets.FashionMNIST('~/.pytorch/F_MNIST_data/', download=True, train=False, transform=transform)\n",
        "testloader = torch.utils.data.DataLoader(testset, batch_size=64, shuffle=True)"
      ],
      "execution_count": 4,
      "outputs": [
        {
          "output_type": "stream",
          "text": [
            "Downloading http://fashion-mnist.s3-website.eu-central-1.amazonaws.com/train-images-idx3-ubyte.gz\n",
            "Downloading http://fashion-mnist.s3-website.eu-central-1.amazonaws.com/train-labels-idx1-ubyte.gz\n",
            "Downloading http://fashion-mnist.s3-website.eu-central-1.amazonaws.com/t10k-images-idx3-ubyte.gz\n",
            "Downloading http://fashion-mnist.s3-website.eu-central-1.amazonaws.com/t10k-labels-idx1-ubyte.gz\n",
            "Processing...\n",
            "Done!\n"
          ],
          "name": "stdout"
        }
      ]
    },
    {
      "metadata": {
        "id": "uLrz_ttemqiQ",
        "colab_type": "text"
      },
      "cell_type": "markdown",
      "source": [
        "Here I'll create a model like normal, using the same one from my solution for part 4."
      ]
    },
    {
      "metadata": {
        "id": "AIvH9dtUmqiX",
        "colab_type": "code",
        "colab": {}
      },
      "cell_type": "code",
      "source": [
        "from torch import nn, optim\n",
        "import torch.nn.functional as F\n",
        "\n",
        "class Classifier(nn.Module):\n",
        "    def __init__(self):\n",
        "        super().__init__()\n",
        "        self.fc1 = nn.Linear(784, 256)\n",
        "        self.fc2 = nn.Linear(256, 128)\n",
        "        self.fc3 = nn.Linear(128, 64)\n",
        "        self.fc4 = nn.Linear(64, 10)\n",
        "        \n",
        "    def forward(self, x):\n",
        "        # make sure input tensor is flattened\n",
        "        x = x.view(x.shape[0], -1)\n",
        "        \n",
        "        x = F.relu(self.fc1(x))\n",
        "        x = F.relu(self.fc2(x))\n",
        "        x = F.relu(self.fc3(x))\n",
        "        x = F.log_softmax(self.fc4(x), dim=1)\n",
        "        \n",
        "        return x"
      ],
      "execution_count": 0,
      "outputs": []
    },
    {
      "metadata": {
        "id": "zuAKzAZ8mqiu",
        "colab_type": "text"
      },
      "cell_type": "markdown",
      "source": [
        "The goal of validation is to measure the model's performance on data that isn't part of the training set. Performance here is up to the developer to define though. Typically this is just accuracy, the percentage of classes the network predicted correctly. Other options are [precision and recall](https://en.wikipedia.org/wiki/Precision_and_recall#Definition_(classification_context)) and top-5 error rate. We'll focus on accuracy here. First I'll do a forward pass with one batch from the test set."
      ]
    },
    {
      "metadata": {
        "id": "qEaF4S5mmqi6",
        "colab_type": "code",
        "colab": {
          "base_uri": "https://localhost:8080/",
          "height": 35
        },
        "outputId": "5e30f47c-40ef-4e37-f6a0-90d1d421a47b"
      },
      "cell_type": "code",
      "source": [
        "model = Classifier()\n",
        "\n",
        "images, labels = next(iter(testloader))\n",
        "# Get the class probabilities\n",
        "ps = torch.exp(model(images))\n",
        "# Make sure the shape is appropriate, we should get 10 class probabilities for 64 examples\n",
        "print(ps.shape)"
      ],
      "execution_count": 7,
      "outputs": [
        {
          "output_type": "stream",
          "text": [
            "torch.Size([64, 10])\n"
          ],
          "name": "stdout"
        }
      ]
    },
    {
      "metadata": {
        "id": "LavMLyEumqjf",
        "colab_type": "text"
      },
      "cell_type": "markdown",
      "source": [
        "With the probabilities, we can get the most likely class using the `ps.topk` method. This returns the $k$ highest values. Since we just want the most likely class, we can use `ps.topk(1)`. This returns a tuple of the top-$k$ values and the top-$k$ indices. If the highest value is the fifth element, we'll get back 4 as the index."
      ]
    },
    {
      "metadata": {
        "id": "J-b1SswTmqjm",
        "colab_type": "code",
        "colab": {
          "base_uri": "https://localhost:8080/",
          "height": 201
        },
        "outputId": "822ec147-4a04-4799-df53-3b76e1a11276"
      },
      "cell_type": "code",
      "source": [
        "top_p, top_class = ps.topk(1, dim=1)\n",
        "# Look at the most likely classes for the first 10 examples\n",
        "print(top_class[:10,:])"
      ],
      "execution_count": 8,
      "outputs": [
        {
          "output_type": "stream",
          "text": [
            "tensor([[2],\n",
            "        [2],\n",
            "        [2],\n",
            "        [2],\n",
            "        [2],\n",
            "        [2],\n",
            "        [2],\n",
            "        [6],\n",
            "        [2],\n",
            "        [7]])\n"
          ],
          "name": "stdout"
        }
      ]
    },
    {
      "metadata": {
        "id": "xrpxoZf9mqkA",
        "colab_type": "text"
      },
      "cell_type": "markdown",
      "source": [
        "Now we can check if the predicted classes match the labels. This is simple to do by equating `top_class` and `labels`, but we have to be careful of the shapes. Here `top_class` is a 2D tensor with shape `(64, 1)` while `labels` is 1D with shape `(64)`. To get the equality to work out the way we want, `top_class` and `labels` must have the same shape.\n",
        "\n",
        "If we do\n",
        "\n",
        "```python\n",
        "equals = top_class == labels\n",
        "```\n",
        "\n",
        "`equals` will have shape `(64, 64)`, try it yourself. What it's doing is comparing the one element in each row of `top_class` with each element in `labels` which returns 64 True/False boolean values for each row."
      ]
    },
    {
      "metadata": {
        "id": "UvGBjFfWmqkJ",
        "colab_type": "code",
        "colab": {}
      },
      "cell_type": "code",
      "source": [
        "equals = top_class == labels.view(*top_class.shape)"
      ],
      "execution_count": 0,
      "outputs": []
    },
    {
      "metadata": {
        "id": "Sj0g-ug6mqkl",
        "colab_type": "text"
      },
      "cell_type": "markdown",
      "source": [
        "Now we need to calculate the percentage of correct predictions. `equals` has binary values, either 0 or 1. This means that if we just sum up all the values and divide by the number of values, we get the percentage of correct predictions. This is the same operation as taking the mean, so we can get the accuracy with a call to `torch.mean`. If only it was that simple. If you try `torch.mean(equals)`, you'll get an error\n",
        "\n",
        "```\n",
        "RuntimeError: mean is not implemented for type torch.ByteTensor\n",
        "```\n",
        "\n",
        "This happens because `equals` has type `torch.ByteTensor` but `torch.mean` isn't implement for tensors with that type. So we'll need to convert `equals` to a float tensor. Note that when we take `torch.mean` it returns a scalar tensor, to get the actual value as a float we'll need to do `accuracy.item()`."
      ]
    },
    {
      "metadata": {
        "id": "cXrkgeZlmqkr",
        "colab_type": "code",
        "colab": {
          "base_uri": "https://localhost:8080/",
          "height": 35
        },
        "outputId": "50ae740a-7d04-472b-83ef-71b797946128"
      },
      "cell_type": "code",
      "source": [
        "accuracy = torch.mean(equals.type(torch.FloatTensor))\n",
        "print(f'Accuracy: {accuracy.item()*100}%')"
      ],
      "execution_count": 10,
      "outputs": [
        {
          "output_type": "stream",
          "text": [
            "Accuracy: 12.5%\n"
          ],
          "name": "stdout"
        }
      ]
    },
    {
      "metadata": {
        "id": "ItYVxuunmqlc",
        "colab_type": "text"
      },
      "cell_type": "markdown",
      "source": [
        "The network is untrained so it's making random guesses and we should see an accuracy around 10%. Now let's train our network and include our validation pass so we can measure how well the network is performing on the test set. Since we're not updating our parameters in the validation pass, we can speed up our code by turning off gradients using `torch.no_grad()`:\n",
        "\n",
        "```python\n",
        "# turn off gradients\n",
        "with torch.no_grad():\n",
        "    # validation pass here\n",
        "    for images, labels in testloader:\n",
        "        ...\n",
        "```\n",
        "\n",
        ">**Exercise:** Implement the validation loop below and print out the total accuracy after the loop. You can largely copy and paste the code from above, but I suggest typing it in because writing it out yourself is essential for building the skill. In general you'll always learn more by typing it rather than copy-pasting. You should be able to get an accuracy above 80%."
      ]
    },
    {
      "metadata": {
        "id": "1MF7fgP6zoI_",
        "colab_type": "code",
        "colab": {
          "base_uri": "https://localhost:8080/",
          "height": 35
        },
        "outputId": "039ea7a3-e1ca-4e89-de96-cbb4b4f9793b"
      },
      "cell_type": "code",
      "source": [
        "use_cuda = True\n",
        "if use_cuda and torch.cuda.is_available():\n",
        "  model.cuda()\n",
        "print(use_cuda and torch.cuda.is_available())"
      ],
      "execution_count": 11,
      "outputs": [
        {
          "output_type": "stream",
          "text": [
            "True\n"
          ],
          "name": "stdout"
        }
      ]
    },
    {
      "metadata": {
        "id": "KCig-WaRmql2",
        "colab_type": "code",
        "colab": {
          "base_uri": "https://localhost:8080/",
          "height": 1119
        },
        "outputId": "3d55e780-3ab3-4f4d-d399-21d04dc35ce5"
      },
      "cell_type": "code",
      "source": [
        "model = Classifier()\n",
        "criterion = nn.NLLLoss()\n",
        "optimizer = optim.Adam(model.parameters(), lr=0.001)\n",
        "\n",
        "epochs = 30\n",
        "steps = 0\n",
        "a = len(trainloader)\n",
        "b = len(testloader)\n",
        "train_losses, test_losses = [], []\n",
        "for e in range(epochs):\n",
        "    running_loss = 0\n",
        "    for images, labels in trainloader:\n",
        "        \n",
        "        optimizer.zero_grad()\n",
        "        \n",
        "        log_ps = model(images)\n",
        "        loss = criterion(log_ps, labels)\n",
        "        loss.backward()\n",
        "        optimizer.step()\n",
        "        \n",
        "        running_loss += loss.item()\n",
        "        \n",
        "    else:\n",
        "        ## TODO: Implement the validation pass and print out the validation accuracy\n",
        "        test_loss,accuracy = 0,0\n",
        "        with torch.no_grad():\n",
        "            model.eval()\n",
        "            for images, labels in testloader:\n",
        "                output =  model(images)\n",
        "                test_loss += criterion(output,labels)\n",
        "                \n",
        "                prob = torch.exp(output)\n",
        "                top_p, top_class = prob.topk(1, dim=1)\n",
        "                \n",
        "                equals = top_class == labels.view(*top_class.shape)\n",
        "                accuracy += torch.mean(equals.type(torch.FloatTensor))\n",
        "        model.train()        \n",
        "        train_losses.append(running_loss/a)\n",
        "        test_losses.append(test_loss/b)\n",
        "        print('Epoch = {}, train_loss = {:.3f}, test_loss = {:.3f}'.format(e+1, running_loss/a, test_loss/b))\n",
        "        print('Accuracy: {:.3f}'.format(accuracy/b))"
      ],
      "execution_count": 14,
      "outputs": [
        {
          "output_type": "stream",
          "text": [
            "Epoch = 1, train_loss = 0.522, test_loss = 0.430\n",
            "Accuracy: 0.840\n",
            "Epoch = 2, train_loss = 0.377, test_loss = 0.396\n",
            "Accuracy: 0.858\n",
            "Epoch = 3, train_loss = 0.336, test_loss = 0.414\n",
            "Accuracy: 0.852\n",
            "Epoch = 4, train_loss = 0.314, test_loss = 0.374\n",
            "Accuracy: 0.865\n",
            "Epoch = 5, train_loss = 0.295, test_loss = 0.363\n",
            "Accuracy: 0.872\n",
            "Epoch = 6, train_loss = 0.280, test_loss = 0.362\n",
            "Accuracy: 0.869\n",
            "Epoch = 7, train_loss = 0.263, test_loss = 0.341\n",
            "Accuracy: 0.881\n",
            "Epoch = 8, train_loss = 0.253, test_loss = 0.340\n",
            "Accuracy: 0.883\n",
            "Epoch = 9, train_loss = 0.238, test_loss = 0.337\n",
            "Accuracy: 0.878\n",
            "Epoch = 10, train_loss = 0.230, test_loss = 0.336\n",
            "Accuracy: 0.889\n",
            "Epoch = 11, train_loss = 0.221, test_loss = 0.342\n",
            "Accuracy: 0.885\n",
            "Epoch = 12, train_loss = 0.212, test_loss = 0.332\n",
            "Accuracy: 0.888\n",
            "Epoch = 13, train_loss = 0.203, test_loss = 0.346\n",
            "Accuracy: 0.886\n",
            "Epoch = 14, train_loss = 0.194, test_loss = 0.331\n",
            "Accuracy: 0.892\n",
            "Epoch = 15, train_loss = 0.185, test_loss = 0.376\n",
            "Accuracy: 0.882\n",
            "Epoch = 16, train_loss = 0.181, test_loss = 0.358\n",
            "Accuracy: 0.890\n",
            "Epoch = 17, train_loss = 0.173, test_loss = 0.357\n",
            "Accuracy: 0.889\n",
            "Epoch = 18, train_loss = 0.164, test_loss = 0.372\n",
            "Accuracy: 0.887\n",
            "Epoch = 19, train_loss = 0.159, test_loss = 0.354\n",
            "Accuracy: 0.893\n",
            "Epoch = 20, train_loss = 0.153, test_loss = 0.401\n",
            "Accuracy: 0.880\n",
            "Epoch = 21, train_loss = 0.149, test_loss = 0.360\n",
            "Accuracy: 0.891\n",
            "Epoch = 22, train_loss = 0.140, test_loss = 0.393\n",
            "Accuracy: 0.891\n",
            "Epoch = 23, train_loss = 0.136, test_loss = 0.399\n",
            "Accuracy: 0.889\n",
            "Epoch = 24, train_loss = 0.130, test_loss = 0.438\n",
            "Accuracy: 0.880\n",
            "Epoch = 25, train_loss = 0.129, test_loss = 0.403\n",
            "Accuracy: 0.890\n",
            "Epoch = 26, train_loss = 0.125, test_loss = 0.410\n",
            "Accuracy: 0.891\n",
            "Epoch = 27, train_loss = 0.120, test_loss = 0.419\n",
            "Accuracy: 0.891\n",
            "Epoch = 28, train_loss = 0.117, test_loss = 0.447\n",
            "Accuracy: 0.894\n",
            "Epoch = 29, train_loss = 0.111, test_loss = 0.465\n",
            "Accuracy: 0.887\n",
            "Epoch = 30, train_loss = 0.108, test_loss = 0.465\n",
            "Accuracy: 0.892\n"
          ],
          "name": "stdout"
        }
      ]
    },
    {
      "metadata": {
        "id": "XTKSfU7DmqmY",
        "colab_type": "code",
        "colab": {
          "base_uri": "https://localhost:8080/",
          "height": 283
        },
        "outputId": "f5135d6c-5455-4b7d-d7a4-ed1686018b1f"
      },
      "cell_type": "code",
      "source": [
        "%matplotlib inline\n",
        "%config InlineBackend.figure_format = 'retina'\n",
        "\n",
        "import matplotlib.pyplot as plt\n",
        "\n",
        "plt.plot(train_losses, label='Training loss')\n",
        "plt.plot(test_losses, label='Validation loss')\n",
        "plt.legend(frameon=False)"
      ],
      "execution_count": 15,
      "outputs": [
        {
          "output_type": "execute_result",
          "data": {
            "text/plain": [
              "<matplotlib.legend.Legend at 0x7f3425896a20>"
            ]
          },
          "metadata": {
            "tags": []
          },
          "execution_count": 15
        },
        {
          "output_type": "display_data",
          "data": {
            "image/png": "[encoded data removed]",
            "text/plain": [
              "<matplotlib.figure.Figure at 0x7f34272f4630>"
            ]
          },
          "metadata": {
            "tags": [],
            "image/png": {
              "width": 370,
              "height": 248
            }
          }
        }
      ]
    },
    {
      "metadata": {
        "id": "RVyO_e79mqnN",
        "colab_type": "text"
      },
      "cell_type": "markdown",
      "source": [
        "## Overfitting\n",
        "\n",
        "If we look at the training and validation losses as we train the network, we can see a phenomenon known as overfitting.\n",
        "\n",
        "<img src='assets/overfitting.png' width=450px>\n",
        "\n",
        "The network learns the training set better and better, resulting in lower training losses. However, it starts having problems generalizing to data outside the training set leading to the validation loss increasing. The ultimate goal of any deep learning model is to make predictions on new data, so we should strive to get the lowest validation loss possible. One option is to use the version of the model with the lowest validation loss, here the one around 8-10 training epochs. This strategy is called *early-stopping*. In practice, you'd save the model frequently as you're training then later choose the model with the lowest validation loss.\n",
        "\n",
        "The most common method to reduce overfitting (outside of early-stopping) is *dropout*, where we randomly drop input units. This forces the network to share information between weights, increasing it's ability to generalize to new data. Adding dropout in PyTorch is straightforward using the [`nn.Dropout`](https://pytorch.org/docs/stable/nn.html#torch.nn.Dropout) module.\n",
        "\n",
        "```python\n",
        "class Classifier(nn.Module):\n",
        "    def __init__(self):\n",
        "        super().__init__()\n",
        "        self.fc1 = nn.Linear(784, 256)\n",
        "        self.fc2 = nn.Linear(256, 128)\n",
        "        self.fc3 = nn.Linear(128, 64)\n",
        "        self.fc4 = nn.Linear(64, 10)\n",
        "        \n",
        "        # Dropout module with 0.2 drop probability\n",
        "        self.dropout = nn.Dropout(p=0.2)\n",
        "        \n",
        "    def forward(self, x):\n",
        "        # make sure input tensor is flattened\n",
        "        x = x.view(x.shape[0], -1)\n",
        "        \n",
        "        # Now with dropout\n",
        "        x = self.dropout(F.relu(self.fc1(x)))\n",
        "        x = self.dropout(F.relu(self.fc2(x)))\n",
        "        x = self.dropout(F.relu(self.fc3(x)))\n",
        "        \n",
        "        # output so no dropout here\n",
        "        x = F.log_softmax(self.fc4(x), dim=1)\n",
        "        \n",
        "        return x\n",
        "```\n",
        "\n",
        "During training we want to use dropout to prevent overfitting, but during inference we want to use the entire network. So, we need to turn off dropout during validation, testing, and whenever we're using the network to make predictions. To do this, you use `model.eval()`. This sets the model to evaluation mode where the dropout probability is 0. You can turn dropout back on by setting the model to train mode with `model.train()`. In general, the pattern for the validation loop will look like this, where you turn off gradients, set the model to evaluation mode, calculate the validation loss and metric, then set the model back to train mode.\n",
        "\n",
        "```python\n",
        "# turn off gradients\n",
        "with torch.no_grad():\n",
        "    \n",
        "    # set model to evaluation mode\n",
        "    model.eval()\n",
        "    \n",
        "    # validation pass here\n",
        "    for images, labels in testloader:\n",
        "        ...\n",
        "\n",
        "# set model back to train mode\n",
        "model.train()\n",
        "```"
      ]
    },
    {
      "metadata": {
        "id": "iEhHwNwmmqny",
        "colab_type": "text"
      },
      "cell_type": "markdown",
      "source": [
        "> **Exercise:** Add dropout to your model and train it on Fashion-MNIST again. See if you can get a lower validation loss or higher accuracy."
      ]
    },
    {
      "metadata": {
        "id": "WbbWmCFJmqoe",
        "colab_type": "code",
        "colab": {}
      },
      "cell_type": "code",
      "source": [
        "## TODO: Define your model with dropout added\n",
        "from torch import nn, optim\n",
        "import torch.nn.functional as F\n",
        "\n",
        "class Classifier(nn.Module):\n",
        "    def __init__(self):\n",
        "        super().__init__()\n",
        "        self.fc1 = nn.Linear(784, 256)\n",
        "        self.fc2 = nn.Linear(256, 128)\n",
        "        self.fc3 = nn.Linear(128, 64)\n",
        "        self.fc4 = nn.Linear(64, 10)\n",
        "        self.dropout = nn.Dropout(p=0.25)\n",
        "        \n",
        "    def forward(self, x):\n",
        "        # make sure input tensor is flattened\n",
        "        x = x.view(x.shape[0], -1)\n",
        "        \n",
        "        x = self.dropout(F.relu(self.fc1(x)))\n",
        "        x = self.dropout(F.relu(self.fc2(x)))\n",
        "        x = self.dropout(F.relu(self.fc3(x)))\n",
        "        x = F.log_softmax(self.fc4(x), dim=1)\n",
        "        \n",
        "        return x"
      ],
      "execution_count": 0,
      "outputs": []
    },
    {
      "metadata": {
        "id": "NIuhY8as77t2",
        "colab_type": "code",
        "colab": {
          "base_uri": "https://localhost:8080/",
          "height": 35
        },
        "outputId": "9ffb9c61-bae9-4a26-e509-48394d121d13"
      },
      "cell_type": "code",
      "source": [
        "use_cuda = True\n",
        "if use_cuda and torch.cuda.is_available():\n",
        "  model.cuda()\n",
        "print(use_cuda and torch.cuda.is_available())"
      ],
      "execution_count": 17,
      "outputs": [
        {
          "output_type": "stream",
          "text": [
            "True\n"
          ],
          "name": "stdout"
        }
      ]
    },
    {
      "metadata": {
        "id": "-kXfon0WmqpZ",
        "colab_type": "code",
        "colab": {
          "base_uri": "https://localhost:8080/",
          "height": 1119
        },
        "outputId": "1c0efaa3-b4e9-45cf-e8ad-8e3be09d2ade"
      },
      "cell_type": "code",
      "source": [
        "## TODO: Train your model with dropout, and monitor the training progress with the validation loss and accuracy\n",
        "model = Classifier()\n",
        "criterion = nn.NLLLoss()\n",
        "optimizer = optim.Adam(model.parameters(), lr=0.001)\n",
        "\n",
        "epochs = 30\n",
        "steps = 0\n",
        "a = len(trainloader)\n",
        "b = len(testloader)\n",
        "train_losses, test_losses = [], []\n",
        "for e in range(epochs):\n",
        "    running_loss = 0\n",
        "    for images, labels in trainloader:\n",
        "        \n",
        "        optimizer.zero_grad() \n",
        "        \n",
        "        log_ps = model(images)\n",
        "        loss = criterion(log_ps, labels)\n",
        "        loss.backward()\n",
        "        optimizer.step()\n",
        "        \n",
        "        running_loss += loss.item()\n",
        "        \n",
        "    else:\n",
        "        ## TODO: Implement the validation pass and print out the validation accuracy\n",
        "        test_loss,accuracy = 0,0\n",
        "        with torch.no_grad():\n",
        "            model.eval()\n",
        "            for images, labels in testloader:\n",
        "                output =  model(images)\n",
        "                test_loss += criterion(output,labels)\n",
        "                \n",
        "                prob = torch.exp(output)\n",
        "                top_p, top_class = prob.topk(1, dim=1)\n",
        "                \n",
        "                equals = top_class == labels.view(*top_class.shape)\n",
        "                accuracy += torch.mean(equals.type(torch.FloatTensor))\n",
        "        model.train()        \n",
        "        train_losses.append(running_loss/a)\n",
        "        test_losses.append(test_loss/b)\n",
        "        print('Epoch = {}, train_loss = {:.3f}, test_loss = {:.3f}'.format(e+1, running_loss/a, test_loss/b))\n",
        "        print('Accuracy: {:.3f}'.format(accuracy/b))"
      ],
      "execution_count": 18,
      "outputs": [
        {
          "output_type": "stream",
          "text": [
            "Epoch = 1, train_loss = 0.623, test_loss = 0.459\n",
            "Accuracy: 0.832\n",
            "Epoch = 2, train_loss = 0.458, test_loss = 0.419\n",
            "Accuracy: 0.847\n",
            "Epoch = 3, train_loss = 0.413, test_loss = 0.399\n",
            "Accuracy: 0.852\n",
            "Epoch = 4, train_loss = 0.391, test_loss = 0.391\n",
            "Accuracy: 0.857\n",
            "Epoch = 5, train_loss = 0.368, test_loss = 0.369\n",
            "Accuracy: 0.864\n",
            "Epoch = 6, train_loss = 0.361, test_loss = 0.369\n",
            "Accuracy: 0.868\n",
            "Epoch = 7, train_loss = 0.348, test_loss = 0.359\n",
            "Accuracy: 0.872\n",
            "Epoch = 8, train_loss = 0.336, test_loss = 0.348\n",
            "Accuracy: 0.876\n",
            "Epoch = 9, train_loss = 0.328, test_loss = 0.350\n",
            "Accuracy: 0.876\n",
            "Epoch = 10, train_loss = 0.325, test_loss = 0.349\n",
            "Accuracy: 0.878\n",
            "Epoch = 11, train_loss = 0.316, test_loss = 0.339\n",
            "Accuracy: 0.879\n",
            "Epoch = 12, train_loss = 0.305, test_loss = 0.349\n",
            "Accuracy: 0.879\n",
            "Epoch = 13, train_loss = 0.305, test_loss = 0.335\n",
            "Accuracy: 0.883\n",
            "Epoch = 14, train_loss = 0.302, test_loss = 0.326\n",
            "Accuracy: 0.883\n",
            "Epoch = 15, train_loss = 0.297, test_loss = 0.340\n",
            "Accuracy: 0.880\n",
            "Epoch = 16, train_loss = 0.290, test_loss = 0.340\n",
            "Accuracy: 0.881\n",
            "Epoch = 17, train_loss = 0.286, test_loss = 0.335\n",
            "Accuracy: 0.883\n",
            "Epoch = 18, train_loss = 0.284, test_loss = 0.339\n",
            "Accuracy: 0.886\n",
            "Epoch = 19, train_loss = 0.279, test_loss = 0.328\n",
            "Accuracy: 0.886\n",
            "Epoch = 20, train_loss = 0.275, test_loss = 0.327\n",
            "Accuracy: 0.886\n",
            "Epoch = 21, train_loss = 0.273, test_loss = 0.340\n",
            "Accuracy: 0.884\n",
            "Epoch = 22, train_loss = 0.271, test_loss = 0.347\n",
            "Accuracy: 0.882\n",
            "Epoch = 23, train_loss = 0.266, test_loss = 0.328\n",
            "Accuracy: 0.883\n",
            "Epoch = 24, train_loss = 0.264, test_loss = 0.327\n",
            "Accuracy: 0.885\n",
            "Epoch = 25, train_loss = 0.259, test_loss = 0.315\n",
            "Accuracy: 0.891\n",
            "Epoch = 26, train_loss = 0.257, test_loss = 0.326\n",
            "Accuracy: 0.890\n",
            "Epoch = 27, train_loss = 0.254, test_loss = 0.326\n",
            "Accuracy: 0.889\n",
            "Epoch = 28, train_loss = 0.252, test_loss = 0.338\n",
            "Accuracy: 0.886\n",
            "Epoch = 29, train_loss = 0.253, test_loss = 0.328\n",
            "Accuracy: 0.890\n",
            "Epoch = 30, train_loss = 0.249, test_loss = 0.330\n",
            "Accuracy: 0.881\n"
          ],
          "name": "stdout"
        }
      ]
    },
    {
      "metadata": {
        "id": "ThadUt8QEGrC",
        "colab_type": "code",
        "colab": {
          "base_uri": "https://localhost:8080/",
          "height": 283
        },
        "outputId": "3fb682b4-c8e5-43d0-c43c-fb71463ac443"
      },
      "cell_type": "code",
      "source": [
        "%matplotlib inline\n",
        "%config InlineBackend.figure_format = 'retina'\n",
        "\n",
        "import matplotlib.pyplot as plt\n",
        "\n",
        "plt.plot(train_losses, label='Training loss')\n",
        "plt.plot(test_losses, label='Validation loss')\n",
        "plt.legend(frameon=False)"
      ],
      "execution_count": 36,
      "outputs": [
        {
          "output_type": "execute_result",
          "data": {
            "text/plain": [
              "<matplotlib.legend.Legend at 0x7f3421c98f28>"
            ]
          },
          "metadata": {
            "tags": []
          },
          "execution_count": 36
        },
        {
          "output_type": "display_data",
          "data": {
            "image/png": "[encoded data removed]",
            "text/plain": [
              "<matplotlib.figure.Figure at 0x7f3475eb1c18>"
            ]
          },
          "metadata": {
            "tags": [],
            "image/png": {
              "width": 376,
              "height": 248
            }
          }
        }
      ]
    },
    {
      "metadata": {
        "id": "msM1VDU1mqpw",
        "colab_type": "text"
      },
      "cell_type": "markdown",
      "source": [
        "## Inference\n",
        "\n",
        "Now that the model is trained, we can use it for inference. We've done this before, but now we need to remember to set the model in inference mode with `model.eval()`. You'll also want to turn off autograd with the `torch.no_grad()` context."
      ]
    },
    {
      "metadata": {
        "id": "nE_Dk6s8mqp3",
        "colab_type": "code",
        "colab": {
          "base_uri": "https://localhost:8080/",
          "height": 227
        },
        "outputId": "a118e0c7-d03d-4ab6-c1b9-6f176cd4f4bb"
      },
      "cell_type": "code",
      "source": [
        "# Import helper module (should be in the repo)\n",
        "import helper\n",
        "\n",
        "# Test out your network!\n",
        "\n",
        "model.eval()\n",
        "\n",
        "dataiter = iter(testloader)\n",
        "images, labels = dataiter.next()\n",
        "img = images[0]\n",
        "# Convert 2D image to 1D vector\n",
        "img = img.view(1, 784)\n",
        "\n",
        "# Calculate the class probabilities (softmax) for img\n",
        "with torch.no_grad():\n",
        "    output = model.forward(img)\n",
        "\n",
        "ps = torch.exp(output)\n",
        "\n",
        "# Plot the image and probabilities\n",
        "helper.view_classify(img.view(1, 28, 28), ps, version='Fashion')"
      ],
      "execution_count": 35,
      "outputs": [
        {
          "output_type": "display_data",
          "data": {
            "image/png": "[encoded data removed]",
            "text/plain": [
              "<matplotlib.figure.Figure at 0x7f3421e95d68>"
            ]
          },
          "metadata": {
            "tags": [],
            "image/png": {
              "width": 424,
              "height": 210
            }
          }
        }
      ]
    },
    {
      "metadata": {
        "id": "7tOetKnT_hUu",
        "colab_type": "code",
        "colab": {
          "base_uri": "https://localhost:8080/",
          "height": 219
        },
        "outputId": "39da34a9-f8a1-42dc-ed1f-580c29596bb5"
      },
      "cell_type": "code",
      "source": [
        "# %cd Exercises\n",
        "!ls"
      ],
      "execution_count": 30,
      "outputs": [
        {
          "output_type": "stream",
          "text": [
            "/content/gdrive/My Drive/Colab Notebooks/Udacity-Pytorch_Challenge/Exercises\n",
            " assets\n",
            " helper.py\n",
            "'Part 1 - Tensors in PyTorch (Exercises).ipynb'\n",
            "'Part 2 - Neural Networks in PyTorch (Exercises).ipynb'\n",
            "'Part 3 - Training Neural Networks (Exercises).ipynb'\n",
            "'Part 4 - Fashion-MNIST (Exercises).ipynb'\n",
            "'Part 5 - Inference and Validation (Exercises).ipynb'\n",
            "'Part 6 - Saving and Loading Models.ipynb'\n",
            "'Part 7 - Loading Image Data (Exercises).ipynb'\n",
            "'Part 8 - Transfer Learning (Exercises).ipynb'\n"
          ],
          "name": "stdout"
        }
      ]
    },
    {
      "metadata": {
        "id": "srTdx4jGmqqV",
        "colab_type": "text"
      },
      "cell_type": "markdown",
      "source": [
        "## Next Up!\n",
        "\n",
        "In the next part, I'll show you how to save your trained models. In general, you won't want to train a model everytime you need it. Instead, you'll train once, save it, then load the model when you want to train more or use if for inference."
      ]
    }
  ]
}